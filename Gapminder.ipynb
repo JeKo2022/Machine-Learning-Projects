{
 "cells": [
  {
   "cell_type": "code",
   "execution_count": 1,
   "id": "913306e9",
   "metadata": {},
   "outputs": [],
   "source": [
    "# In this assignment, you’ll create a visualization of the development in different parts of the world \n",
    "# over a timespan of 60 years. You’ll be using the ‘gapminder’ dataset that contains information about\n",
    "# the average life expectancy and total fertility (number of children per woman) per capita of 244 \n",
    "# countries from 1964 - 2013. \n",
    "# From this dataset you can derive some interesting dynamics on global developments in this time period."
   ]
  },
  {
   "cell_type": "code",
   "execution_count": 2,
   "id": "f1defe12",
   "metadata": {},
   "outputs": [],
   "source": [
    "import pandas as pd\n",
    "\n",
    "from bokeh.io import output_notebook, show\n",
    "from bokeh.plotting import figure\n",
    "\n",
    "from bokeh.io import show\n",
    "from bokeh.models import CustomJS, Select\n",
    "\n",
    "from bokeh.transform import factor_cmap"
   ]
  },
  {
   "cell_type": "code",
   "execution_count": 3,
   "id": "5b5f56f6",
   "metadata": {},
   "outputs": [
    {
     "name": "stdout",
     "output_type": "stream",
     "text": [
      "Index(['Country', 'Year', 'lifeExp', 'pop', 'Fertility', 'Region', 'ID'], dtype='object')\n"
     ]
    }
   ],
   "source": [
    "# import data as dataframe\n",
    "df = pd.read_csv(f'Gapminder.csv', index_col = False, header = 0, skipinitialspace = True)\n",
    "print(df.columns)"
   ]
  },
  {
   "cell_type": "code",
   "execution_count": 4,
   "id": "5f8331cb",
   "metadata": {},
   "outputs": [
    {
     "ename": "SyntaxError",
     "evalue": "invalid syntax (Temp/ipykernel_14324/955474981.py, line 2)",
     "output_type": "error",
     "traceback": [
      "\u001b[1;36m  File \u001b[1;32m\"C:\\Users\\jeani\\AppData\\Local\\Temp/ipykernel_14324/955474981.py\"\u001b[1;36m, line \u001b[1;32m2\u001b[0m\n\u001b[1;33m    source = ColumnDataSource(group)\u001b[0m\n\u001b[1;37m         ^\u001b[0m\n\u001b[1;31mSyntaxError\u001b[0m\u001b[1;31m:\u001b[0m invalid syntax\n"
     ]
    }
   ],
   "source": [
    "group = df.groupby(('lifeExp')\n",
    "source = ColumnDataSource(group)"
   ]
  },
  {
   "cell_type": "code",
   "execution_count": 32,
   "id": "f90adfe1",
   "metadata": {},
   "outputs": [
    {
     "name": "stdout",
     "output_type": "stream",
     "text": [
      "['South Asia', 'Europe & Central Asia', 'Middle East & North Africa', 'East Asia & Pacific', 'Sub-Saharan Africa', 'America']\n"
     ]
    }
   ],
   "source": [
    "# set list of country names\n",
    "countries = list(df.Country.unique())\n",
    "# print(COUNTRIES)\n",
    "\n",
    "# enable selection of specific country\n",
    "select = Select(title=\"Countries\", value=\"Afghanistan\", options= countries)\n",
    "select.js_on_change(\"value\", CustomJS(code=\"\"\" console.log('select: value=' + this.value, this.toString())\"\"\"))\n",
    "\n",
    "show(select)"
   ]
  },
  {
   "cell_type": "code",
   "execution_count": 33,
   "id": "c9d0ba34",
   "metadata": {},
   "outputs": [
    {
     "name": "stdout",
     "output_type": "stream",
     "text": [
      "['South Asia', 'Europe & Central Asia', 'Middle East & North Africa', 'East Asia & Pacific', 'Sub-Saharan Africa', 'America']\n"
     ]
    }
   ],
   "source": [
    "# set list of region names\n",
    "regions = list(df.Region.unique())\n",
    "print(regions)\n",
    "\n",
    "# enable selection of specific country\n",
    "select = Select(title=\"Countries\", value=\"South Asia\", options= regions)\n",
    "select.js_on_change(\"value\", CustomJS(code=\"\"\" console.log('select: value=' + this.value, this.toString())\"\"\"))\n",
    "\n",
    "show(select)"
   ]
  },
  {
   "cell_type": "code",
   "execution_count": 50,
   "id": "289282f7",
   "metadata": {},
   "outputs": [
    {
     "name": "stdout",
     "output_type": "stream",
     "text": [
      "South Asia\n",
      "Europe & Central Asia\n",
      "Middle East & North Africa\n",
      "East Asia & Pacific\n",
      "Sub-Saharan Africa\n",
      "America\n",
      "{'South Asia': array(['Afghanistan', 'Bangladesh', 'Bhutan', 'India', 'Maldives',\n",
      "       'Nepal', 'Pakistan', 'Sri Lanka'], dtype=object), 'Europe & Central Asia': array(['Albania', 'Andorra', 'Armenia', 'Austria', 'Azerbaijan',\n",
      "       'Belarus', 'Belgium', 'Bosnia and Herzegovina', 'Bulgaria',\n",
      "       'Channel Islands', 'Croatia', 'Cyprus', 'Czech Rep.', 'Denmark',\n",
      "       'Estonia', 'Faeroe Islands', 'Finland', 'France', 'Georgia',\n",
      "       'Germany', 'Gibraltar', 'Greece', 'Greenland', 'Guernsey',\n",
      "       'Holy See', 'Hungary', 'Iceland', 'Ireland', 'Isle of Man',\n",
      "       'Italy', 'Jersey', 'Kazakhstan', 'Kosovo', 'Kyrgyzstan', 'Latvia',\n",
      "       'Liechtenstein', 'Lithuania', 'Luxembourg', 'Macedonia, FYR',\n",
      "       'Malta', 'Moldova', 'Monaco', 'Montenegro', 'Netherlands',\n",
      "       'Northern Cyprus', 'Norway', 'Poland', 'Portugal', 'Romania',\n",
      "       'Russia', 'San Marino', 'Serbia', 'Serbia excluding Kosovo',\n",
      "       'Slovak Republic', 'Slovenia', 'Spain', 'Svalbard', 'Sweden',\n",
      "       'Switzerland', 'Tajikistan', 'Turkey', 'Turkmenistan', 'Ukraine',\n",
      "       'United Kingdom', 'Uzbekistan', 'Åland'], dtype=object), 'Middle East & North Africa': array(['Algeria', 'Bahrain', 'Djibouti', 'Egypt', 'Iran', 'Iraq',\n",
      "       'Israel', 'Jordan', 'Kuwait', 'Lebanon', 'Libya', 'Morocco',\n",
      "       'Oman', 'Qatar', 'Saudi Arabia', 'Syria', 'Tunisia',\n",
      "       'United Arab Emirates', 'West Bank and Gaza', 'Western Sahara',\n",
      "       'Yemen, Rep.'], dtype=object), 'East Asia & Pacific': array(['American Samoa', 'Australia', 'Brunei', 'Cambodia', 'China',\n",
      "       'Christmas Island', 'Cocos Island', 'Cook Islands', 'Fiji',\n",
      "       'French Polynesia', 'Guam', 'Hong Kong, China', 'Indonesia',\n",
      "       'Japan', 'Kiribati', 'Korea, Dem. Rep.', 'Korea, Rep.', 'Laos',\n",
      "       'Macao, China', 'Malaysia', 'Marshall Islands',\n",
      "       'Micronesia, Fed. Sts.', 'Mongolia', 'Myanmar', 'Nauru',\n",
      "       'New Caledonia', 'New Zealand', 'Niue', 'Norfolk Island',\n",
      "       'Northern Mariana Islands', 'Palau', 'Papua New Guinea',\n",
      "       'Philippines', 'Pitcairn', 'Samoa', 'Singapore', 'Solomon Islands',\n",
      "       'Taiwan', 'Thailand', 'Timor-Leste', 'Tokelau', 'Tonga', 'Tuvalu',\n",
      "       'Vanuatu', 'Vietnam', 'Wallis et Futuna'], dtype=object), 'Sub-Saharan Africa': array(['Angola', 'Benin', 'Botswana', 'Burkina Faso', 'Burundi',\n",
      "       'Cameroon', 'Cape Verde', 'Central African Rep.', 'Chad',\n",
      "       'Comoros', 'Congo, Dem. Rep.', 'Congo, Rep.', \"Cote d'Ivoire\",\n",
      "       'Equatorial Guinea', 'Eritrea', 'Ethiopia', 'Gabon', 'Gambia',\n",
      "       'Ghana', 'Guinea', 'Guinea-Bissau', 'Kenya', 'Lesotho', 'Liberia',\n",
      "       'Madagascar', 'Malawi', 'Mali', 'Mauritania', 'Mauritius',\n",
      "       'Mayotte', 'Mozambique', 'Namibia', 'Niger', 'Nigeria', 'Reunion',\n",
      "       'Rwanda', 'Saint Helena', 'Sao Tome and Principe', 'Senegal',\n",
      "       'Seychelles', 'Sierra Leone', 'Somalia', 'South Africa',\n",
      "       'South Sudan', 'Sudan', 'Swaziland', 'Tanzania', 'Togo', 'Uganda',\n",
      "       'Zambia', 'Zimbabwe'], dtype=object), 'America': array(['Anguilla', 'Antigua and Barbuda', 'Argentina', 'Aruba', 'Bahamas',\n",
      "       'Barbados', 'Belize', 'Bermuda', 'Bolivia', 'Brazil',\n",
      "       'British Virgin Islands', 'Canada', 'Cayman Islands', 'Chile',\n",
      "       'Colombia', 'Costa Rica', 'Cuba', 'Dominica', 'Dominican Rep.',\n",
      "       'Ecuador', 'El Salvador', 'Falkland Islands (Malvinas)',\n",
      "       'French Guiana', 'Grenada', 'Guadeloupe', 'Guatemala', 'Guyana',\n",
      "       'Haiti', 'Honduras', 'Jamaica', 'Martinique', 'Mexico',\n",
      "       'Montserrat', 'Netherlands Antilles', 'Nicaragua', 'Panama',\n",
      "       'Paraguay', 'Peru', 'Puerto Rico', 'Saint Barthélemy',\n",
      "       'Saint Kitts and Nevis', 'Saint Lucia', 'Saint Martin',\n",
      "       'Saint Vincent and the Grenadines', 'Saint-Pierre-et-Miquelon',\n",
      "       'Suriname', 'Trinidad and Tobago', 'Turks and Caicos Islands',\n",
      "       'United States', 'Uruguay', 'Venezuela', 'Virgin Islands (U.S.)'],\n",
      "      dtype=object)}\n"
     ]
    }
   ],
   "source": [
    "# set dictionary for all regions and corresponding countries\n",
    "dict_regions = {}\n",
    "\n",
    "# fill in dictionary with region as key and relevant countries as values (array)\n",
    "for region in regions:\n",
    "    print(region)\n",
    "    dict_regions[region] = df[df['Region']== region]['Country'].unique()\n",
    "    df[df['Region']== region]['Country'].unique()\n",
    "    \n",
    "print(dict_regions)\n",
    "        "
   ]
  },
  {
   "cell_type": "code",
   "execution_count": 51,
   "id": "567e79f6",
   "metadata": {},
   "outputs": [
    {
     "name": "stderr",
     "output_type": "stream",
     "text": [
      "BokehUserWarning: ColumnDataSource's columns must be of the same length. Current lengths: ('America', 52), ('East Asia & Pacific', 46), ('Europe & Central Asia', 66), ('Middle East & North Africa', 21), ('South Asia', 8), ('Sub-Saharan Africa', 51)\n"
     ]
    }
   ],
   "source": [
    "source = ColumnDataSource(data = dict_regions)"
   ]
  },
  {
   "cell_type": "code",
   "execution_count": 34,
   "id": "f1a8165f",
   "metadata": {},
   "outputs": [],
   "source": [
    "# how to incorporate select buttons into cmap below?\n",
    "\n",
    "# doe linked panning to plot life expectancy and fertility for different continents"
   ]
  },
  {
   "cell_type": "code",
   "execution_count": 26,
   "id": "97f60b2a",
   "metadata": {},
   "outputs": [
    {
     "name": "stderr",
     "output_type": "stream",
     "text": [
      "BokehDeprecationWarning: 'legend' keyword is deprecated, use explicit 'legend_label', 'legend_field', or 'legend_group' keywords instead\n"
     ]
    }
   ],
   "source": [
    "\n",
    "# using factor cmap to map the life_expectancy according to the species category; used to map the colors according to the countries\n",
    "index_cmap = factor_cmap('Country', palette='Turbo256', factors=sorted(df.Country.unique()))\n",
    "\n",
    "# set (scatter) figure\n",
    "p = figure(plot_width = 600, plot_height = 450, title = \"Countries: Years x life expectancy\")\n",
    "p.scatter('Year','lifeExp', source = df, fill_alpha = 0.6, fill_color = index_cmap, size = 1, legend = 'Country')\n",
    "\n",
    "# set plotting characteristics\n",
    "p.xaxis.axis_label = 'Year'\n",
    "p.yaxis.axis_label = 'Life Expectancies'\n",
    "p.legend.location = \"top_left\"\n",
    "\n",
    "# show\n",
    "show(p)"
   ]
  },
  {
   "cell_type": "code",
   "execution_count": null,
   "id": "824066c0",
   "metadata": {},
   "outputs": [],
   "source": []
  }
 ],
 "metadata": {
  "kernelspec": {
   "display_name": "Python 3 (ipykernel)",
   "language": "python",
   "name": "python3"
  },
  "language_info": {
   "codemirror_mode": {
    "name": "ipython",
    "version": 3
   },
   "file_extension": ".py",
   "mimetype": "text/x-python",
   "name": "python",
   "nbconvert_exporter": "python",
   "pygments_lexer": "ipython3",
   "version": "3.7.11"
  }
 },
 "nbformat": 4,
 "nbformat_minor": 5
}
